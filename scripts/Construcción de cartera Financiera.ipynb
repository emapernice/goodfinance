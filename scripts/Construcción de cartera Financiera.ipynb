{
 "cells": [
  {
   "cell_type": "markdown",
   "id": "99d8c7a1-d284-4621-8016-a58167e58447",
   "metadata": {},
   "source": [
    "# CONSTRUCCION DE CARTERA FINANCIERA"
   ]
  },
  {
   "cell_type": "markdown",
   "id": "cc5371c7-fe5c-4ebd-933a-fb1f3834cf26",
   "metadata": {},
   "source": [
    "### Librerías"
   ]
  },
  {
   "cell_type": "code",
   "execution_count": 4,
   "id": "f05ef451-ebc2-4812-9f48-a3717bd2494b",
   "metadata": {},
   "outputs": [],
   "source": [
    "import numpy as np\n",
    "import matplotlib.pyplot as plt\n",
    "import pandas as pd"
   ]
  },
  {
   "cell_type": "markdown",
   "id": "0d145f6f-7c96-4880-be0e-567c2bb36e71",
   "metadata": {},
   "source": [
    "### Lectura de Bases de Datos"
   ]
  },
  {
   "cell_type": "code",
   "execution_count": 5,
   "id": "0da4c9b7-2585-452c-a67d-f5919b6b0ba0",
   "metadata": {},
   "outputs": [],
   "source": [
    "data_route = '../data/'"
   ]
  },
  {
   "cell_type": "code",
   "execution_count": 6,
   "id": "3491b3fb-e6d9-4d87-8094-f92b09f45f46",
   "metadata": {},
   "outputs": [],
   "source": [
    "expenses_filename = 'expenses.csv'\n",
    "incomes_filename = 'incomes.csv'"
   ]
  },
  {
   "cell_type": "code",
   "execution_count": 7,
   "id": "c9168a1f-9dd8-4e7f-a517-180b1dadaa78",
   "metadata": {},
   "outputs": [],
   "source": [
    "expenses = pd.read_csv(data_route+expenses_filename)\n",
    "incomes = pd.read_csv(data_route+incomes_filename)"
   ]
  },
  {
   "cell_type": "code",
   "execution_count": 8,
   "id": "05a84f56-2248-4715-81f5-7b255c48b59e",
   "metadata": {},
   "outputs": [
    {
     "data": {
      "text/html": [
       "<div>\n",
       "<style scoped>\n",
       "    .dataframe tbody tr th:only-of-type {\n",
       "        vertical-align: middle;\n",
       "    }\n",
       "\n",
       "    .dataframe tbody tr th {\n",
       "        vertical-align: top;\n",
       "    }\n",
       "\n",
       "    .dataframe thead th {\n",
       "        text-align: right;\n",
       "    }\n",
       "</style>\n",
       "<table border=\"1\" class=\"dataframe\">\n",
       "  <thead>\n",
       "    <tr style=\"text-align: right;\">\n",
       "      <th></th>\n",
       "      <th>DATE</th>\n",
       "      <th>AMOUNT</th>\n",
       "      <th>CATEGORY</th>\n",
       "      <th>THIRD-PARTY</th>\n",
       "      <th>DESCRIPTION</th>\n",
       "    </tr>\n",
       "  </thead>\n",
       "  <tbody>\n",
       "    <tr>\n",
       "      <th>0</th>\n",
       "      <td>04-04-2025</td>\n",
       "      <td>5000</td>\n",
       "      <td>variable</td>\n",
       "      <td>zero2gero</td>\n",
       "      <td>Inscripcion curso Python</td>\n",
       "    </tr>\n",
       "  </tbody>\n",
       "</table>\n",
       "</div>"
      ],
      "text/plain": [
       "         DATE   AMOUNT  CATEGORY  THIRD-PARTY               DESCRIPTION\n",
       "0  04-04-2025     5000  variable    zero2gero  Inscripcion curso Python"
      ]
     },
     "execution_count": 8,
     "metadata": {},
     "output_type": "execute_result"
    }
   ],
   "source": [
    "incomes"
   ]
  },
  {
   "cell_type": "code",
   "execution_count": 11,
   "id": "782d7856-4522-4893-b31e-7d26694c6d34",
   "metadata": {},
   "outputs": [
    {
     "data": {
      "text/plain": [
       "Index(['DATE', ' AMOUNT', ' CATEGORY', ' THIRD-PARTY', ' DESCRIPTION'], dtype='object')"
      ]
     },
     "execution_count": 11,
     "metadata": {},
     "output_type": "execute_result"
    }
   ],
   "source": [
    "incomes.columns"
   ]
  },
  {
   "cell_type": "code",
   "execution_count": 16,
   "id": "cc907e02-d988-483a-be70-2e4c25f25271",
   "metadata": {},
   "outputs": [
    {
     "name": "stdout",
     "output_type": "stream",
     "text": [
      "Index(['DATE', ' AMOUNT', ' CATEGORY', ' THIRD-PARTY', ' DESCRIPTION'], dtype='object')\n"
     ]
    }
   ],
   "source": [
    "print(incomes.columns)"
   ]
  },
  {
   "cell_type": "code",
   "execution_count": 17,
   "id": "5a7f06f8-7f24-469a-a97a-69815266a5c2",
   "metadata": {},
   "outputs": [
    {
     "data": {
      "text/plain": [
       "0    5000\n",
       "Name:  AMOUNT, dtype: int64"
      ]
     },
     "execution_count": 17,
     "metadata": {},
     "output_type": "execute_result"
    }
   ],
   "source": [
    "incomes[' AMOUNT']"
   ]
  },
  {
   "cell_type": "code",
   "execution_count": 18,
   "id": "9ce5393b-fed0-4376-acc6-87cfd0ef4702",
   "metadata": {},
   "outputs": [
    {
     "data": {
      "text/plain": [
       "np.int64(5000)"
      ]
     },
     "execution_count": 18,
     "metadata": {},
     "output_type": "execute_result"
    }
   ],
   "source": [
    "incomes[' AMOUNT'].sum()"
   ]
  },
  {
   "cell_type": "code",
   "execution_count": 23,
   "id": "e9541c24-204d-45d7-a4c2-597350e4b5db",
   "metadata": {},
   "outputs": [
    {
     "data": {
      "text/plain": [
       "'Inscripcion curso Python'"
      ]
     },
     "execution_count": 23,
     "metadata": {},
     "output_type": "execute_result"
    }
   ],
   "source": [
    "incomes.loc[0][' DESCRIPTION']"
   ]
  },
  {
   "cell_type": "code",
   "execution_count": 25,
   "id": "25492554-d364-48a6-8915-359e82a7bd2a",
   "metadata": {},
   "outputs": [
    {
     "data": {
      "text/plain": [
       "1"
      ]
     },
     "execution_count": 25,
     "metadata": {},
     "output_type": "execute_result"
    }
   ],
   "source": [
    "n = len(incomes)\n",
    "n"
   ]
  },
  {
   "cell_type": "code",
   "execution_count": 26,
   "id": "385f2c87-c7bd-4543-946e-51958011c72d",
   "metadata": {},
   "outputs": [],
   "source": [
    "incomes.loc[n] = ['29-04-2025',300,'VARIABLES','zero2hero','Curso intensivo R']"
   ]
  },
  {
   "cell_type": "code",
   "execution_count": 27,
   "id": "341549db-9d19-4eac-85f6-859f1e81d528",
   "metadata": {},
   "outputs": [
    {
     "data": {
      "text/html": [
       "<div>\n",
       "<style scoped>\n",
       "    .dataframe tbody tr th:only-of-type {\n",
       "        vertical-align: middle;\n",
       "    }\n",
       "\n",
       "    .dataframe tbody tr th {\n",
       "        vertical-align: top;\n",
       "    }\n",
       "\n",
       "    .dataframe thead th {\n",
       "        text-align: right;\n",
       "    }\n",
       "</style>\n",
       "<table border=\"1\" class=\"dataframe\">\n",
       "  <thead>\n",
       "    <tr style=\"text-align: right;\">\n",
       "      <th></th>\n",
       "      <th>DATE</th>\n",
       "      <th>AMOUNT</th>\n",
       "      <th>CATEGORY</th>\n",
       "      <th>THIRD-PARTY</th>\n",
       "      <th>DESCRIPTION</th>\n",
       "    </tr>\n",
       "  </thead>\n",
       "  <tbody>\n",
       "    <tr>\n",
       "      <th>0</th>\n",
       "      <td>04-04-2025</td>\n",
       "      <td>5000</td>\n",
       "      <td>variable</td>\n",
       "      <td>zero2gero</td>\n",
       "      <td>Inscripcion curso Python</td>\n",
       "    </tr>\n",
       "    <tr>\n",
       "      <th>1</th>\n",
       "      <td>29-04-2025</td>\n",
       "      <td>300</td>\n",
       "      <td>VARIABLES</td>\n",
       "      <td>zero2hero</td>\n",
       "      <td>Curso intensivo R</td>\n",
       "    </tr>\n",
       "  </tbody>\n",
       "</table>\n",
       "</div>"
      ],
      "text/plain": [
       "         DATE   AMOUNT   CATEGORY  THIRD-PARTY               DESCRIPTION\n",
       "0  04-04-2025     5000   variable    zero2gero  Inscripcion curso Python\n",
       "1  29-04-2025      300  VARIABLES    zero2hero         Curso intensivo R"
      ]
     },
     "execution_count": 27,
     "metadata": {},
     "output_type": "execute_result"
    }
   ],
   "source": [
    "incomes"
   ]
  },
  {
   "cell_type": "markdown",
   "id": "8c782bad-ca7f-49ca-94f9-430327ce568d",
   "metadata": {},
   "source": [
    "### Construcción de la Clase"
   ]
  },
  {
   "cell_type": "code",
   "execution_count": 127,
   "id": "1c9c22f3-6ec3-412a-a073-f1c519fb4a5b",
   "metadata": {},
   "outputs": [],
   "source": [
    "class FWallet:\n",
    "\n",
    "    def __init__(self, inputs):\n",
    "        self.inputs = inputs\n",
    "        self.incomes = pd.read_csv(self.inputs['data_route']+self.inputs['incomes_filename'])\n",
    "        self.expenses = pd.read_csv(self.inputs['data_route']+self.inputs['expenses_filename'])\n",
    "\n",
    "    ### ACTIONS TO PERFORM ###\n",
    "\n",
    "    # Add income to database\n",
    "    def add_income(self):\n",
    "        date = input('date: ')\n",
    "        amount = input('amount: ')\n",
    "        category = input('category: ')\n",
    "        third_party = input('third_party: ')\n",
    "        description = input('description: ')\n",
    "\n",
    "        new_income = [date,amount,category,third_party,description]\n",
    "\n",
    "        n = len(self.incomes)\n",
    "        self.incomes.loc[n] = new_income\n",
    "\n",
    "        self.incomes.to_csv(self.inputs['data_route']+self.inputs['incomes_filename'],index=False)\n",
    "\n",
    "    # Add expense to database\n",
    "    def add_expense(self):\n",
    "        date = input('date: ')\n",
    "        amount = input('amount: ')\n",
    "        category = input('category: ')\n",
    "        third_party = input('third_party: ')\n",
    "        description = input('description: ')\n",
    "\n",
    "        new_expense = [date,amount,category,third_party,description]\n",
    "\n",
    "        n = len(self.expenses)\n",
    "        self.expenses.loc[n] = new_expense\n",
    "\n",
    "        self.expenses.to_csv(self.inputs['data_route']+self.inputs['expenses_filename'],index=False)\n",
    "        \n",
    "    # Calculate the total income\n",
    "    def total_income(self):\n",
    "        total = self.incomes[' AMOUNT'].sum()\n",
    "        return total\n",
    "\n",
    "    # Calculate the total expense\n",
    "    def total_expense(self):\n",
    "        total = self.expenses[' AMOUNT'].sum()\n",
    "        return total\n",
    "\n",
    "    # Calculate the balance = income - expense\n",
    "    def balance(self):\n",
    "        balance = self.total_income() - self.total_expense()\n",
    "        return balance\n",
    "\n",
    "    # Create finantial report using the function above\n",
    "    def financial_report(self):\n",
    "        print('\\n'+'financial report'+'\\n')\n",
    "        print(f'Total Income: ${self.total_income()}')\n",
    "        print(f'Total Expense: ${self.total_expense()}')\n",
    "        print(f'Balance: ${self.balance()}')\n",
    "        if self.balance() > 0:\n",
    "            print('Dont forget to save some of your left-off money! great job!')\n",
    "        else:\n",
    "            print('Be responsible with your finance, and find a low rate loan!')"
   ]
  },
  {
   "cell_type": "code",
   "execution_count": 128,
   "id": "96b9fa32-362f-421a-b2cb-c56af455e5ce",
   "metadata": {},
   "outputs": [],
   "source": [
    "inputs = {\n",
    "    'data_route' : '../data/',\n",
    "    'expenses_filename' : 'expenses.csv',\n",
    "    'incomes_filename' : 'incomes.csv'\n",
    "}"
   ]
  },
  {
   "cell_type": "code",
   "execution_count": 129,
   "id": "613850b0-2c07-4a83-81dc-85698a20f96e",
   "metadata": {},
   "outputs": [],
   "source": [
    "cartera = FWallet(inputs)"
   ]
  },
  {
   "cell_type": "code",
   "execution_count": 130,
   "id": "509b7c3f-5ef6-4a0e-b466-961f2494033f",
   "metadata": {},
   "outputs": [
    {
     "name": "stdout",
     "output_type": "stream",
     "text": [
      "\n",
      "financial report\n",
      "\n",
      "Total Income: $5250\n",
      "Total Expense: $100\n",
      "Balance: $5150\n",
      "Dont forget to save some of your left-off money! great job!\n"
     ]
    }
   ],
   "source": [
    "cartera.financial_report()"
   ]
  },
  {
   "cell_type": "code",
   "execution_count": null,
   "id": "ebe3bad9-6969-4873-be77-0a9bb504219a",
   "metadata": {},
   "outputs": [],
   "source": []
  }
 ],
 "metadata": {
  "kernelspec": {
   "display_name": "Python 3 (ipykernel)",
   "language": "python",
   "name": "python3"
  },
  "language_info": {
   "codemirror_mode": {
    "name": "ipython",
    "version": 3
   },
   "file_extension": ".py",
   "mimetype": "text/x-python",
   "name": "python",
   "nbconvert_exporter": "python",
   "pygments_lexer": "ipython3",
   "version": "3.12.3"
  }
 },
 "nbformat": 4,
 "nbformat_minor": 5
}
