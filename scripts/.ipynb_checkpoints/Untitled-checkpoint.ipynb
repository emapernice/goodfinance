{
 "cells": [
  {
   "cell_type": "markdown",
   "id": "99d8c7a1-d284-4621-8016-a58167e58447",
   "metadata": {},
   "source": [
    "# CONSTRUCCION DE CARTERA FINANCIERA"
   ]
  },
  {
   "cell_type": "markdown",
   "id": "cc5371c7-fe5c-4ebd-933a-fb1f3834cf26",
   "metadata": {},
   "source": [
    "### Librerías"
   ]
  },
  {
   "cell_type": "code",
   "execution_count": 1,
   "id": "f05ef451-ebc2-4812-9f48-a3717bd2494b",
   "metadata": {},
   "outputs": [],
   "source": [
    "import numpy as np\n",
    "import matplotlib.pyplot as plt\n",
    "import pandas as pd"
   ]
  },
  {
   "cell_type": "markdown",
   "id": "0d145f6f-7c96-4880-be0e-567c2bb36e71",
   "metadata": {},
   "source": [
    "### Lectura de Bases de Datos"
   ]
  },
  {
   "cell_type": "code",
   "execution_count": 2,
   "id": "0da4c9b7-2585-452c-a67d-f5919b6b0ba0",
   "metadata": {},
   "outputs": [],
   "source": [
    "data_route = '../data/'"
   ]
  },
  {
   "cell_type": "code",
   "execution_count": 3,
   "id": "3491b3fb-e6d9-4d87-8094-f92b09f45f46",
   "metadata": {},
   "outputs": [],
   "source": [
    "expenses_filename = 'expenses.csv'\n",
    "incomes_filename = 'incomes.csv'"
   ]
  },
  {
   "cell_type": "code",
   "execution_count": 4,
   "id": "c9168a1f-9dd8-4e7f-a517-180b1dadaa78",
   "metadata": {},
   "outputs": [],
   "source": [
    "expenses = pd.read_csv(data_route+expenses_filename)\n",
    "incomes = pd.read_csv(data_route+incomes_filename)"
   ]
  },
  {
   "cell_type": "code",
   "execution_count": 5,
   "id": "86b41688-0710-4f67-b2ef-89d4890a29d9",
   "metadata": {},
   "outputs": [
    {
     "data": {
      "text/html": [
       "<div>\n",
       "<style scoped>\n",
       "    .dataframe tbody tr th:only-of-type {\n",
       "        vertical-align: middle;\n",
       "    }\n",
       "\n",
       "    .dataframe tbody tr th {\n",
       "        vertical-align: top;\n",
       "    }\n",
       "\n",
       "    .dataframe thead th {\n",
       "        text-align: right;\n",
       "    }\n",
       "</style>\n",
       "<table border=\"1\" class=\"dataframe\">\n",
       "  <thead>\n",
       "    <tr style=\"text-align: right;\">\n",
       "      <th></th>\n",
       "      <th>DATE</th>\n",
       "      <th>AMOUNT</th>\n",
       "      <th>CATEGORY</th>\n",
       "      <th>THIRD-PARTY</th>\n",
       "      <th>DESCRIPTION</th>\n",
       "    </tr>\n",
       "  </thead>\n",
       "  <tbody>\n",
       "  </tbody>\n",
       "</table>\n",
       "</div>"
      ],
      "text/plain": [
       "Empty DataFrame\n",
       "Columns: [DATE,  AMOUNT,  CATEGORY,  THIRD-PARTY,  DESCRIPTION]\n",
       "Index: []"
      ]
     },
     "execution_count": 5,
     "metadata": {},
     "output_type": "execute_result"
    }
   ],
   "source": [
    "expenses"
   ]
  },
  {
   "cell_type": "code",
   "execution_count": null,
   "id": "3e95ae0e-ce89-4bb6-bcf9-9dc3e3541820",
   "metadata": {},
   "outputs": [],
   "source": []
  }
 ],
 "metadata": {
  "kernelspec": {
   "display_name": "Python 3 (ipykernel)",
   "language": "python",
   "name": "python3"
  },
  "language_info": {
   "codemirror_mode": {
    "name": "ipython",
    "version": 3
   },
   "file_extension": ".py",
   "mimetype": "text/x-python",
   "name": "python",
   "nbconvert_exporter": "python",
   "pygments_lexer": "ipython3",
   "version": "3.12.3"
  }
 },
 "nbformat": 4,
 "nbformat_minor": 5
}
